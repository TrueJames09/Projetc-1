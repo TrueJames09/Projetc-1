{
 "cells": [
  {
   "cell_type": "code",
   "execution_count": 7,
   "id": "6a98780d",
   "metadata": {},
   "outputs": [],
   "source": [
    "import pandas as pd\n",
    "from matplotlib import pyplot as plt\n",
    "df = pd.read_csv('banklist2.csv',encoding='cp1252')"
   ]
  },
  {
   "cell_type": "code",
   "execution_count": 8,
   "id": "f428f7ae",
   "metadata": {},
   "outputs": [
    {
     "name": "stdout",
     "output_type": "stream",
     "text": [
      "shape (567, 7)\n"
     ]
    }
   ],
   "source": [
    "print(\"shape\", df.shape)"
   ]
  },
  {
   "cell_type": "code",
   "execution_count": 9,
   "id": "f8b667b0",
   "metadata": {},
   "outputs": [
    {
     "name": "stdout",
     "output_type": "stream",
     "text": [
      "Bank Name                 object\n",
      "City                      object\n",
      "State                     object\n",
      "Cert                       int64\n",
      "Acquiring Institution     object\n",
      "Closing Date              object\n",
      "Fund                       int64\n",
      "dtype: object\n"
     ]
    }
   ],
   "source": [
    "print(df.dtypes)"
   ]
  },
  {
   "cell_type": "code",
   "execution_count": 10,
   "id": "5a7bf316",
   "metadata": {},
   "outputs": [],
   "source": [
    "df.drop('Fund', inplace=True, axis=1)"
   ]
  },
  {
   "cell_type": "code",
   "execution_count": 11,
   "id": "cb41a5e8",
   "metadata": {},
   "outputs": [
    {
     "name": "stdout",
     "output_type": "stream",
     "text": [
      "Bank Name                 object\n",
      "City                      object\n",
      "State                     object\n",
      "Cert                       int64\n",
      "Acquiring Institution     object\n",
      "Closing Date              object\n",
      "dtype: object\n"
     ]
    }
   ],
   "source": [
    "print(df.dtypes)"
   ]
  },
  {
   "cell_type": "code",
   "execution_count": 12,
   "id": "8f6d06e1",
   "metadata": {},
   "outputs": [],
   "source": [
    "df.drop(df.columns[3], inplace=True, axis=1)"
   ]
  },
  {
   "cell_type": "code",
   "execution_count": 13,
   "id": "e85b8c85",
   "metadata": {},
   "outputs": [
    {
     "name": "stdout",
     "output_type": "stream",
     "text": [
      "Bank Name                 object\n",
      "City                      object\n",
      "State                     object\n",
      "Acquiring Institution     object\n",
      "Closing Date              object\n",
      "dtype: object\n"
     ]
    }
   ],
   "source": [
    "print(df.dtypes)"
   ]
  },
  {
   "cell_type": "code",
   "execution_count": 14,
   "id": "bdc1f1ea",
   "metadata": {},
   "outputs": [
    {
     "name": "stdout",
     "output_type": "stream",
     "text": [
      "                         Bank Name               City  State   \\\n",
      "0          Heartland Tri-State Bank            Elkhart     KS   \n",
      "1               First Republic Bank      San Francisco     CA   \n",
      "2                    Signature Bank           New York     NY   \n",
      "3               Silicon Valley Bank        Santa Clara     CA   \n",
      "4                 Almena State Bank             Almena     KS   \n",
      "5        First City Bank of Florida  Fort Walton Beach     FL   \n",
      "6              The First State Bank      Barboursville     WV   \n",
      "7                Ericson State Bank            Ericson     NE   \n",
      "8  City National Bank of New Jersey             Newark     NJ   \n",
      "9                     Resolute Bank             Maumee     OH   \n",
      "\n",
      "                Acquiring Institution  Closing Date   \n",
      "0               Dream First Bank, N.A.     7/28/2023  \n",
      "1            JPMorgan Chase Bank, N.A.      5/1/2023  \n",
      "2                  Flagstar Bank, N.A.     3/12/2023  \n",
      "3  First–Citizens Bank & Trust Company     3/10/2023  \n",
      "4                          Equity Bank    10/23/2020  \n",
      "5            United Fidelity Bank, fsb    10/16/2020  \n",
      "6                       MVB Bank, Inc.      4/3/2020  \n",
      "7           Farmers and Merchants Bank     2/14/2020  \n",
      "8                      Industrial Bank     11/1/2019  \n",
      "9                   Buckeye State Bank    10/25/2019  \n"
     ]
    }
   ],
   "source": [
    "print(df.head(10))\n"
   ]
  },
  {
   "cell_type": "code",
   "execution_count": 15,
   "id": "b3f03ce3",
   "metadata": {},
   "outputs": [
    {
     "name": "stdout",
     "output_type": "stream",
     "text": [
      "['Bank Name\\xa0', 'City\\xa0', 'State\\xa0', 'Acquiring Institution\\xa0', 'Closing Date\\xa0']\n"
     ]
    }
   ],
   "source": [
    "print(df.columns.tolist())"
   ]
  },
  {
   "cell_type": "code",
   "execution_count": 16,
   "id": "dad7d03d",
   "metadata": {},
   "outputs": [],
   "source": [
    "df['Closing Date\\xa0'] = pd.to_datetime(df['Closing Date\\xa0'], format='%m/%d/%Y')"
   ]
  },
  {
   "cell_type": "code",
   "execution_count": 17,
   "id": "434e3877",
   "metadata": {},
   "outputs": [
    {
     "name": "stdout",
     "output_type": "stream",
     "text": [
      "Bank Name                         object\n",
      "City                              object\n",
      "State                             object\n",
      "Acquiring Institution             object\n",
      "Closing Date              datetime64[ns]\n",
      "dtype: object\n"
     ]
    }
   ],
   "source": [
    "print(df.dtypes)"
   ]
  },
  {
   "cell_type": "code",
   "execution_count": 18,
   "id": "092c06ae",
   "metadata": {},
   "outputs": [],
   "source": [
    "df = df.dropna(subset=['Closing Date\\xa0'])"
   ]
  },
  {
   "cell_type": "code",
   "execution_count": 19,
   "id": "4f7a3081",
   "metadata": {},
   "outputs": [
    {
     "name": "stdout",
     "output_type": "stream",
     "text": [
      "shape (567, 5)\n"
     ]
    }
   ],
   "source": [
    "print(\"shape\", df.shape)"
   ]
  },
  {
   "cell_type": "code",
   "execution_count": 20,
   "id": "200e747d",
   "metadata": {},
   "outputs": [],
   "source": [
    "df=df.drop_duplicates(subset='Bank Name\\xa0', keep='last')"
   ]
  },
  {
   "cell_type": "code",
   "execution_count": 21,
   "id": "13b49a1a",
   "metadata": {},
   "outputs": [
    {
     "name": "stdout",
     "output_type": "stream",
     "text": [
      "shape (549, 5)\n"
     ]
    }
   ],
   "source": [
    "print(\"shape\", df.shape)"
   ]
  },
  {
   "cell_type": "code",
   "execution_count": 22,
   "id": "500d280e",
   "metadata": {},
   "outputs": [
    {
     "data": {
      "text/plain": [
       "0                              Heartland Tri-State Bank\n",
       "1                                   First Republic Bank\n",
       "3                                   Silicon Valley Bank\n",
       "4                                     Almena State Bank\n",
       "5                            First City Bank of Florida\n",
       "7                                    Ericson State Bank\n",
       "8                      City National Bank of New Jersey\n",
       "9                                         Resolute Bank\n",
       "10                                Louisa Community Bank\n",
       "11                                 The Enloe State Bank\n",
       "12                  Washington Federal Bank for Savings\n",
       "13      The Farmers and Merchants State Bank of Argonia\n",
       "14                                  Fayette County Bank\n",
       "15    Guaranty Bank, (d/b/a BestBank in Georgia & Mi...\n",
       "16                                       First NBC Bank\n",
       "17                                        Proficio Bank\n",
       "18                        Seaway Bank and Trust Company\n",
       "19                               Harvest Community Bank\n",
       "20                                          Allied Bank\n",
       "21                         The Woodbury Banking Company\n",
       "22                               First CornerStone Bank\n",
       "23                                   Trust Company Bank\n",
       "24                           North Milwaukee State Bank\n",
       "25                               Hometown National Bank\n",
       "26                                  The Bank of Georgia\n",
       "28                                       Edgebrook Bank\n",
       "29                                           Doral Bank\n",
       "30                    Capitol City Bank & Trust Company\n",
       "31                              Highland Community Bank\n",
       "32                     First National Bank of Crestview\n",
       "33                                   Northern Star Bank\n",
       "34               Frontier Bank, FSB D/B/A El Paseo Bank\n",
       "35                The National Republic Bank of Chicago\n",
       "36                                       NBRS Financial\n",
       "37                                GreenChoice Bank, fsb\n",
       "38                             Eastside Commercial Bank\n",
       "39                               The Freedom State Bank\n",
       "41                                          Valley Bank\n",
       "42                          Slavie Federal Savings Bank\n",
       "43                                Columbia Savings Bank\n",
       "Name: Bank Name , dtype: object"
      ]
     },
     "execution_count": 22,
     "metadata": {},
     "output_type": "execute_result"
    }
   ],
   "source": [
    "df['Bank Name\\xa0'].head(40)"
   ]
  },
  {
   "cell_type": "code",
   "execution_count": 23,
   "id": "f587764e",
   "metadata": {},
   "outputs": [],
   "source": [
    "df['Year'] = df['Closing Date\\xa0'].dt.year"
   ]
  },
  {
   "cell_type": "code",
   "execution_count": 24,
   "id": "cbc20de8",
   "metadata": {},
   "outputs": [
    {
     "name": "stdout",
     "output_type": "stream",
     "text": [
      "                          Bank Name               City  State   \\\n",
      "0           Heartland Tri-State Bank            Elkhart     KS   \n",
      "1                First Republic Bank      San Francisco     CA   \n",
      "3                Silicon Valley Bank        Santa Clara     CA   \n",
      "4                  Almena State Bank             Almena     KS   \n",
      "5         First City Bank of Florida  Fort Walton Beach     FL   \n",
      "7                 Ericson State Bank            Ericson     NE   \n",
      "8   City National Bank of New Jersey             Newark     NJ   \n",
      "9                      Resolute Bank             Maumee     OH   \n",
      "10             Louisa Community Bank             Louisa     KY   \n",
      "11              The Enloe State Bank             Cooper     TX   \n",
      "\n",
      "                 Acquiring Institution  Closing Date   Year  \n",
      "0                Dream First Bank, N.A.    2023-07-28  2023  \n",
      "1             JPMorgan Chase Bank, N.A.    2023-05-01  2023  \n",
      "3   First–Citizens Bank & Trust Company    2023-03-10  2023  \n",
      "4                           Equity Bank    2020-10-23  2020  \n",
      "5             United Fidelity Bank, fsb    2020-10-16  2020  \n",
      "7            Farmers and Merchants Bank    2020-02-14  2020  \n",
      "8                       Industrial Bank    2019-11-01  2019  \n",
      "9                    Buckeye State Bank    2019-10-25  2019  \n",
      "10    Kentucky Farmers Bank Corporation    2019-10-25  2019  \n",
      "11                   Legend Bank, N. A.    2019-05-31  2019  \n"
     ]
    }
   ],
   "source": [
    "print(df.head(10))"
   ]
  },
  {
   "cell_type": "code",
   "execution_count": 25,
   "id": "8121bfba",
   "metadata": {},
   "outputs": [
    {
     "name": "stdout",
     "output_type": "stream",
     "text": [
      "Bank Name                         object\n",
      "City                              object\n",
      "State                             object\n",
      "Acquiring Institution             object\n",
      "Closing Date              datetime64[ns]\n",
      "Year                               int64\n",
      "dtype: object\n"
     ]
    }
   ],
   "source": [
    "print(df.dtypes)"
   ]
  },
  {
   "cell_type": "code",
   "execution_count": 26,
   "id": "86823e40",
   "metadata": {},
   "outputs": [
    {
     "data": {
      "text/plain": [
       "<Axes: >"
      ]
     },
     "execution_count": 26,
     "metadata": {},
     "output_type": "execute_result"
    },
    {
     "data": {
      "image/png": "[encoded data removed]",
      "text/plain": [
       "<Figure size 640x480 with 1 Axes>"
      ]
     },
     "metadata": {},
     "output_type": "display_data"
    }
   ],
   "source": [
    "df.boxplot(column=['Year'])"
   ]
  },
  {
   "cell_type": "code",
   "execution_count": 27,
   "id": "c6c35bd7",
   "metadata": {},
   "outputs": [
    {
     "name": "stdout",
     "output_type": "stream",
     "text": [
      "shape (497, 6)\n",
      "shape (467, 6)\n"
     ]
    }
   ],
   "source": [
    "df = df[df['Year'] > 2008]\n",
    "print(\"shape\", df.shape)\n",
    "df = df[df['Year'] < 2015]\n",
    "print(\"shape\", df.shape)\n",
    "#I have checked for numeric outliers"
   ]
  },
  {
   "cell_type": "code",
   "execution_count": 28,
   "id": "664cc643",
   "metadata": {},
   "outputs": [],
   "source": [
    "#end of data cleaning\n"
   ]
  },
  {
   "cell_type": "code",
   "execution_count": 29,
   "id": "4cda66d2",
   "metadata": {},
   "outputs": [
    {
     "data": {
      "text/plain": [
       "467"
      ]
     },
     "execution_count": 29,
     "metadata": {},
     "output_type": "execute_result"
    }
   ],
   "source": [
    "df['Year'].count()"
   ]
  },
  {
   "cell_type": "code",
   "execution_count": 30,
   "id": "c1abbd7c",
   "metadata": {},
   "outputs": [
    {
     "name": "stdout",
     "output_type": "stream",
     "text": [
      "      Acquiring Institution   Bank Name   City   Closing Date   State \n",
      "Year                                                                  \n",
      "2009                     137         137    137            137     137\n",
      "2010                     153         153    153            153     153\n",
      "2011                      88          88     88             88      88\n",
      "2012                      49          49     49             49      49\n",
      "2013                      23          23     23             23      23\n",
      "2014                      17          17     17             17      17\n"
     ]
    }
   ],
   "source": [
    "table = pd.pivot_table(df, index = ['Year'], aggfunc='count')\n",
    "print(table)\n",
    "#this is the piot tavble for the first sub-question, it is meant to be a simple count of the number of banks closed in each year\n",
    "#I could not figure out how to limit it to one column and rename it to number of banks closed"
   ]
  },
  {
   "cell_type": "code",
   "execution_count": 31,
   "id": "27b7cfd5",
   "metadata": {},
   "outputs": [],
   "source": [
    "\n",
    "table = table.reset_index()"
   ]
  },
  {
   "cell_type": "code",
   "execution_count": 32,
   "id": "2efb62bd",
   "metadata": {},
   "outputs": [
    {
     "name": "stdout",
     "output_type": "stream",
     "text": [
      "0    2009\n",
      "1    2010\n",
      "2    2011\n",
      "3    2012\n",
      "4    2013\n",
      "5    2014\n",
      "Name: Year, dtype: int64\n"
     ]
    }
   ],
   "source": [
    "print(table.iloc[:, 0])"
   ]
  },
  {
   "cell_type": "code",
   "execution_count": 33,
   "id": "208a3b9e",
   "metadata": {},
   "outputs": [
    {
     "data": {
      "image/png": "[encoded data removed]",
      "text/plain": [
       "<Figure size 640x480 with 1 Axes>"
      ]
     },
     "metadata": {},
     "output_type": "display_data"
    }
   ],
   "source": [
    "plt.pie(table.iloc[:, 1],\n",
    "        labels = table.iloc[:, 0])\n",
    "\n",
    "plt.show()\n"
   ]
  },
  {
   "cell_type": "code",
   "execution_count": 34,
   "id": "f9105c13",
   "metadata": {},
   "outputs": [],
   "source": [
    "#according to both the pivot table and the pie chart the three years with the largest amount of closed banks were 2011 with 88\n",
    "#closed banks, 2009 with 137 closed banks, and 2010 with 153 closed banks. roughly 2008 - 2014 is the most destructive time period\n",
    "#for the banking industry"
   ]
  },
  {
   "cell_type": "code",
   "execution_count": 35,
   "id": "97653a59",
   "metadata": {},
   "outputs": [
    {
     "name": "stdout",
     "output_type": "stream",
     "text": [
      "                               Bank Name   City   Closing Date   State   Year\n",
      "Acquiring Institution                                                        \n",
      "1st United Bank                         3      3              3       3     3\n",
      "Advantage National Bank Group           1      1              1       1     1\n",
      "Alerus Financial, N.A.                  2      2              2       2     2\n",
      "Alma Bank                               1      1              1       1     1\n",
      "AloStar Bank of Commerce                1      1              1       1     1\n",
      "...                                   ...    ...            ...     ...   ...\n",
      "Wheaton Bank & Trust                    1      1              1       1     1\n",
      "Whidbey Island Bank                     2      2              2       2     2\n",
      "Wilshire State Bank                     1      1              1       1     1\n",
      "Xenith Bank                             1      1              1       1     1\n",
      "Your Community Bank                     1      1              1       1     1\n",
      "\n",
      "[245 rows x 5 columns]\n"
     ]
    }
   ],
   "source": [
    "table2 = pd.pivot_table(df, index = ['Acquiring Institution\\xa0'], aggfunc='count')\n",
    "\n",
    "print(table2)\n",
    "#This is the piot table for subquestion 2. "
   ]
  },
  {
   "cell_type": "code",
   "execution_count": 36,
   "id": "f7cb2b43",
   "metadata": {},
   "outputs": [
    {
     "name": "stdout",
     "output_type": "stream",
     "text": [
      "                                     Bank Name   City   Closing Date   State   \\\n",
      "Acquiring Institution                                                           \n",
      "No Acquirer                                  26     26             26      26   \n",
      "State Bank and Trust Company                 12     12             12      12   \n",
      "Ameris Bank                                  10     10             10      10   \n",
      "Community & Southern Bank                     8      8              8       8   \n",
      "U.S. Bank N.A.                                8      8              8       8   \n",
      "Centennial Bank                               7      7              7       7   \n",
      "CenterState Bank of Florida, N.A.             6      6              6       6   \n",
      "Central Bank                                  6      6              6       6   \n",
      "First-Citizens Bank & Trust Company           6      6              6       6   \n",
      "Stearns Bank, N.A.                            6      6              6       6   \n",
      "\n",
      "                                     Year  \n",
      "Acquiring Institution                      \n",
      "No Acquirer                            26  \n",
      "State Bank and Trust Company           12  \n",
      "Ameris Bank                            10  \n",
      "Community & Southern Bank               8  \n",
      "U.S. Bank N.A.                          8  \n",
      "Centennial Bank                         7  \n",
      "CenterState Bank of Florida, N.A.       6  \n",
      "Central Bank                            6  \n",
      "First-Citizens Bank & Trust Company     6  \n",
      "Stearns Bank, N.A.                      6  \n"
     ]
    }
   ],
   "source": [
    "table3 = table2.nlargest(10, ['Bank Name\\xa0'])\n",
    "print(table3)\n",
    "#This is the piot table for subquestion 2."
   ]
  },
  {
   "cell_type": "code",
   "execution_count": 37,
   "id": "734fe071",
   "metadata": {},
   "outputs": [
    {
     "name": "stdout",
     "output_type": "stream",
     "text": [
      "                Acquiring Institution   Bank Name   City   Closing Date   \\\n",
      "0                          No Acquirer          26     26             26   \n",
      "1         State Bank and Trust Company          12     12             12   \n",
      "2                          Ameris Bank          10     10             10   \n",
      "3            Community & Southern Bank           8      8              8   \n",
      "4                       U.S. Bank N.A.           8      8              8   \n",
      "5                      Centennial Bank           7      7              7   \n",
      "6    CenterState Bank of Florida, N.A.           6      6              6   \n",
      "7                         Central Bank           6      6              6   \n",
      "8  First-Citizens Bank & Trust Company           6      6              6   \n",
      "9                   Stearns Bank, N.A.           6      6              6   \n",
      "\n",
      "   State   Year  \n",
      "0      26    26  \n",
      "1      12    12  \n",
      "2      10    10  \n",
      "3       8     8  \n",
      "4       8     8  \n",
      "5       7     7  \n",
      "6       6     6  \n",
      "7       6     6  \n",
      "8       6     6  \n",
      "9       6     6  \n"
     ]
    }
   ],
   "source": [
    "table3 = table3.reset_index()\n",
    "print(table3)"
   ]
  },
  {
   "cell_type": "code",
   "execution_count": 38,
   "id": "7da5d3f9",
   "metadata": {},
   "outputs": [
    {
     "data": {
      "image/png": "[encoded data removed]",
      "text/plain": [
       "<Figure size 640x480 with 1 Axes>"
      ]
     },
     "metadata": {},
     "output_type": "display_data"
    }
   ],
   "source": [
    "plt.pie(table3.iloc[:, 1],\n",
    "        labels = table3.iloc[:, 0])\n",
    "\n",
    "plt.show()"
   ]
  },
  {
   "cell_type": "code",
   "execution_count": 39,
   "id": "56306f03",
   "metadata": {},
   "outputs": [],
   "source": [
    "#Accoring to the pivot table and chart we learn thatduring the time period of 2009 - 2014 the largest portions of banks were not acquired by anyone"
   ]
  },
  {
   "cell_type": "code",
   "execution_count": 40,
   "id": "b941bff9",
   "metadata": {},
   "outputs": [
    {
     "name": "stdout",
     "output_type": "stream",
     "text": [
      "        Acquiring Institution   Bank Name   City   Closing Date   Year\n",
      "State                                                                 \n",
      "AL                           7           7      7              7     7\n",
      "AR                           1           1      1              1     1\n",
      "AZ                          13          13     13             13    13\n",
      "CA                          35          35     35             35    35\n",
      "CO                           9           9      9              9     9\n",
      "CT                           1           1      1              1     1\n",
      "FL                          66          66     66             66    66\n",
      "GA                          79          79     79             79    79\n",
      "IA                           2           2      2              2     2\n",
      "ID                           2           2      2              2     2\n",
      "IL                          58          58     58             58    58\n",
      "IN                           3           3      3              3     3\n",
      "KS                           8           8      8              8     8\n",
      "KY                           2           2      2              2     2\n",
      "LA                           2           2      2              2     2\n",
      "MA                           1           1      1              1     1\n",
      "MD                          10          10     10             10    10\n",
      "MI                          12          12     12             12    12\n",
      "MN                          22          22     22             22    22\n",
      "MO                          14          14     14             14    14\n",
      "MS                           2           2      2              2     2\n",
      "NC                           7           7      7              7     7\n",
      "NE                           3           3      3              3     3\n",
      "NJ                           4           4      4              4     4\n",
      "NM                           3           3      3              3     3\n",
      "NV                           9           9      9              9     9\n",
      "NY                           4           4      4              4     4\n",
      "OH                           5           5      5              5     5\n",
      "OK                           7           7      7              7     7\n",
      "OR                           6           6      6              6     6\n",
      "PA                           7           7      7              7     7\n",
      "PR                           3           3      3              3     3\n",
      "SC                          10          10     10             10    10\n",
      "SD                           1           1      1              1     1\n",
      "TN                           5           5      5              5     5\n",
      "TX                           8           8      8              8     8\n",
      "UT                           6           6      6              6     6\n",
      "VA                           5           5      5              5     5\n",
      "WA                          17          17     17             17    17\n",
      "WI                           7           7      7              7     7\n",
      "WY                           1           1      1              1     1\n"
     ]
    }
   ],
   "source": [
    "table4 = pd.pivot_table(df, index = ['State\\xa0'], aggfunc='count')\n",
    "print(table4)"
   ]
  },
  {
   "cell_type": "code",
   "execution_count": 43,
   "id": "da19744d",
   "metadata": {},
   "outputs": [
    {
     "name": "stdout",
     "output_type": "stream",
     "text": [
      "  State   Acquiring Institution   Bank Name   City   Closing Date   Year\n",
      "0     GA                      79          79     79             79    79\n",
      "1     FL                      66          66     66             66    66\n",
      "2     IL                      58          58     58             58    58\n",
      "3     CA                      35          35     35             35    35\n",
      "4     MN                      22          22     22             22    22\n",
      "5     WA                      17          17     17             17    17\n",
      "6     MO                      14          14     14             14    14\n",
      "7     AZ                      13          13     13             13    13\n",
      "8     MI                      12          12     12             12    12\n",
      "9     MD                      10          10     10             10    10\n"
     ]
    }
   ],
   "source": [
    "table5 = table4.nlargest(10, ['Bank Name\\xa0'])\n",
    "table5 = table5.reset_index()\n",
    "print(table5)\n",
    "#This is the piot table for subquestion 3."
   ]
  },
  {
   "cell_type": "code",
   "execution_count": 44,
   "id": "ef78c57d",
   "metadata": {},
   "outputs": [
    {
     "data": {
      "image/png": "[encoded data removed]",
      "text/plain": [
       "<Figure size 640x480 with 1 Axes>"
      ]
     },
     "metadata": {},
     "output_type": "display_data"
    }
   ],
   "source": [
    "plt.pie(table5.iloc[:, 1],\n",
    "        labels = table5.iloc[:, 0])\n",
    "\n",
    "plt.show()"
   ]
  },
  {
   "cell_type": "code",
   "execution_count": 45,
   "id": "e4e511cf",
   "metadata": {},
   "outputs": [],
   "source": [
    "#Among the top 10 states that had bank closures from 2009-2014 Flordia ,georgia and Illinois were the three that had the most bank closures"
   ]
  },
  {
   "cell_type": "code",
   "execution_count": 46,
   "id": "bbbd97cb",
   "metadata": {},
   "outputs": [],
   "source": [
    "#Throughout this projet I have learned that from 2008-2014 was the most destructive time period for the banking industry according the number of closed banks\n",
    "#In addition I have learned which speific banks were benfitting from the closures during that time period by looking at who was acquring the most amount of these failed banks\n",
    "#I have also learned which states were fropm the most difficulty by looking at which states had the most closed banks"
   ]
  },
  {
   "cell_type": "code",
   "execution_count": null,
   "id": "dcee0cf5",
   "metadata": {},
   "outputs": [],
   "source": []
  }
 ],
 "metadata": {
  "kernelspec": {
   "display_name": "Python 3 (ipykernel)",
   "language": "python",
   "name": "python3"
  },
  "language_info": {
   "codemirror_mode": {
    "name": "ipython",
    "version": 3
   },
   "file_extension": ".py",
   "mimetype": "text/x-python",
   "name": "python",
   "nbconvert_exporter": "python",
   "pygments_lexer": "ipython3",
   "version": "3.11.4"
  }
 },
 "nbformat": 4,
 "nbformat_minor": 5
}
